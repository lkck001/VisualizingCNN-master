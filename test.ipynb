{
 "cells": [
  {
   "cell_type": "code",
   "execution_count": 1,
   "metadata": {},
   "outputs": [
    {
     "name": "stdout",
     "output_type": "stream",
     "text": [
      "Original input:\n",
      "tensor([[ 1.,  2.,  3.,  4.],\n",
      "        [ 5.,  6.,  7.,  8.],\n",
      "        [ 9., 10., 11., 12.],\n",
      "        [13., 14., 15., 16.]])\n",
      "\n",
      "Pooled output (output[0]):\n",
      "tensor([[ 6.,  8.],\n",
      "        [14., 16.]])\n",
      "\n",
      "Indices (output[1]):\n",
      "tensor([[ 5,  7],\n",
      "        [13, 15]])\n"
     ]
    }
   ],
   "source": [
    "import torch\n",
    "import torch.nn as nn\n",
    "\n",
    "# Create a MaxPool2d layer with return_indices=True\n",
    "pool = nn.MaxPool2d(kernel_size=2, stride=2, return_indices=True)\n",
    "\n",
    "# Sample input\n",
    "input = torch.tensor([[\n",
    "    [1, 2, 3, 4],\n",
    "    [5, 6, 7, 8],\n",
    "    [9, 10, 11, 12],\n",
    "    [13, 14, 15, 16]\n",
    "]], dtype=torch.float)\n",
    "\n",
    "# Forward pass\n",
    "pooled_output, indices = pool(input)\n",
    "\n",
    "print(\"Original input:\")\n",
    "print(input[0])\n",
    "# Output:\n",
    "# [[ 1  2  3  4]\n",
    "#  [ 5  6  7  8]\n",
    "#  [ 9 10 11 12]\n",
    "#  [13 14 15 16]]\n",
    "\n",
    "print(\"\\nPooled output (output[0]):\")\n",
    "print(pooled_output[0])\n",
    "# Output:\n",
    "# [[ 6  8]\n",
    "#  [14 16]]\n",
    "\n",
    "print(\"\\nIndices (output[1]):\")\n",
    "print(indices[0])\n",
    "# Output (positions of max values):\n",
    "# [[5 7]\n",
    "#  [13 15]]"
   ]
  },
  {
   "cell_type": "code",
   "execution_count": 2,
   "metadata": {},
   "outputs": [
    {
     "name": "stdout",
     "output_type": "stream",
     "text": [
      "Hello, Alice!\n",
      "Hi, Bob!\n"
     ]
    },
    {
     "ename": "",
     "evalue": "",
     "output_type": "error",
     "traceback": [
      "\u001b[1;31mThe Kernel crashed while executing code in the the current cell or a previous cell. Please review the code in the cell(s) to identify a possible cause of the failure. Click <a href='https://aka.ms/vscodeJupyterKernelCrash'>here</a> for more info. View Jupyter <a href='command:jupyter.viewOutput'>log</a> for further details."
     ]
    }
   ],
   "source": [
    "from functools import partial\n",
    "\n",
    "# Regular function with multiple parameters\n",
    "def greet(name, greeting):\n",
    "    return f\"{greeting}, {name}!\"\n",
    "\n",
    "# Creating a new function with 'greeting' pre-filled\n",
    "say_hello = partial(greet, greeting=\"Hello\")\n",
    "say_hi = partial(greet, greeting=\"Hi\")\n",
    "\n",
    "# Now we can call these with just the name\n",
    "print(say_hello(\"Alice\"))  # Output: \"Hello, Alice!\"\n",
    "print(say_hi(\"Bob\"))      # Output: \"Hi, Bob!\""
   ]
  },
  {
   "cell_type": "code",
   "execution_count": null,
   "metadata": {},
   "outputs": [],
   "source": []
  }
 ],
 "metadata": {
  "language_info": {
   "name": "python"
  }
 },
 "nbformat": 4,
 "nbformat_minor": 2
}
